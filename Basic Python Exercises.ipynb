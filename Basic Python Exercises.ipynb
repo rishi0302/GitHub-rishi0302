{
 "cells": [
  {
   "cell_type": "markdown",
   "metadata": {},
   "source": [
    "### Python Basic Programming Exercise"
   ]
  },
  {
   "cell_type": "code",
   "execution_count": null,
   "metadata": {
    "collapsed": true
   },
   "outputs": [],
   "source": [
    "#1: Write a program which will find all such numbers which are divisible by 7 but are not a multiple of 5, between 2000 and 3200 (both included).\n",
    "#The numbers obtained should be printed in a comma-separated sequence on a single line.\n",
    "\n",
    "#Hints: Consider use range(#begin, #end) method\n"
   ]
  },
  {
   "cell_type": "code",
   "execution_count": 24,
   "metadata": {},
   "outputs": [
    {
     "name": "stdout",
     "output_type": "stream",
     "text": [
      "2002, 2009, 2016, 2023, 2037, 2044, 2051, 2058, 2072, 2079, 2086, 2093, 2107, 2114, 2121, 2128, 2142, 2149, 2156, 2163, 2177, 2184, 2191, 2198, 2212, 2219, 2226, 2233, 2247, 2254, 2261, 2268, 2282, 2289, 2296, 2303, 2317, 2324, 2331, 2338, 2352, 2359, 2366, 2373, 2387, 2394, 2401, 2408, 2422, 2429, 2436, 2443, 2457, 2464, 2471, 2478, 2492, 2499, 2506, 2513, 2527, 2534, 2541, 2548, 2562, 2569, 2576, 2583, 2597, 2604, 2611, 2618, 2632, 2639, 2646, 2653, 2667, 2674, 2681, 2688, 2702, 2709, 2716, 2723, 2737, 2744, 2751, 2758, 2772, 2779, 2786, 2793, 2807, 2814, 2821, 2828, 2842, 2849, 2856, 2863, 2877, 2884, 2891, 2898, 2912, 2919, 2926, 2933, 2947, 2954, 2961, 2968, 2982, 2989, 2996, 3003, 3017, 3024, 3031, 3038, 3052, 3059, 3066, 3073, 3087, 3094, 3101, 3108, 3122, 3129, 3136, 3143, 3157, 3164, 3171, 3178, 3192, 3199\n"
     ]
    }
   ],
   "source": [
    "# for printing in a comma separated sequence on a single line\n",
    "\n",
    "line1 = []\n",
    "\n",
    "#define a list to store the values between 2000 and 3200(both inclusive) which are divisible by 7 but not by 5\n",
    "\n",
    "l1=range(2000,3201) #to create a list of numbers between 2000 and 3201\n",
    "\n",
    "for x1 in l1:\n",
    "    if ((x1%7==0) & (x1%5!=0)): #for checking divisibility with 7 and 5\n",
    "         line1.append(str(x1))  #to add all numbers in a list with commas\n",
    "        \n",
    "print(\", \".join(line1)) "
   ]
  },
  {
   "cell_type": "code",
   "execution_count": null,
   "metadata": {},
   "outputs": [],
   "source": [
    "#2. Write a program which can compute the factorial of a given numbers. The results should be printed in a comma-separated sequence on a single line. \n",
    "#raw_input() function can be used for getting user(console) input\n",
    "\n",
    "#Suppose the input is supplied to the program:  8  \n",
    "#Then, the output should be:  40320 \n",
    "#Hints: In case of input data being supplied to the question, it should be assumed to be a console input. \n"
   ]
  },
  {
   "cell_type": "code",
   "execution_count": 23,
   "metadata": {},
   "outputs": [
    {
     "name": "stdout",
     "output_type": "stream",
     "text": [
      "Enter the number for factorial : 8\n",
      "40320\n"
     ]
    }
   ],
   "source": [
    "# for printing in a comma separated sequence on a single line\n",
    "line2 = []\n",
    "\n",
    "# To take number as input from user\n",
    "n2 = int(raw_input(\"Enter the number for factorial : \"))\n",
    "\n",
    "a2=1\n",
    "\n",
    "for i2 in range(1,n2+1) : # Loop to traverse to the number and find factorial of it\n",
    "    a2=a2*i2 # Find factorial\n",
    "\n",
    "line2.append(str(a2))\n",
    "    \n",
    "print(\", \".join(line2))"
   ]
  },
  {
   "cell_type": "code",
   "execution_count": 24,
   "metadata": {},
   "outputs": [],
   "source": [
    "#3. With a given integral number n, write a program to generate a dictionary that contains (i, i*i) such that is an integral number between 1 and n (both included). and then the program should print the dictionary.\n",
    "#Suppose the following input is supplied to the program: 8\n",
    "#Then, the output should be: {1: 1, 2: 4, 3: 9, 4: 16, 5: 25, 6: 36, 7: 49, 8: 64}\n",
    "#Hints: In case of input data being supplied to the question, it should be assumed to be a console input. Consider use dict()\n",
    "\n"
   ]
  },
  {
   "cell_type": "code",
   "execution_count": 17,
   "metadata": {},
   "outputs": [
    {
     "name": "stdout",
     "output_type": "stream",
     "text": [
      "Enter a number : 8\n",
      "{1: 1, 2: 4, 3: 9, 4: 16, 5: 25, 6: 36, 7: 49, 8: 64}\n"
     ]
    }
   ],
   "source": [
    "## To take number as input from user\n",
    "n3=int(raw_input(\"Enter a number : \"))\n",
    "\n",
    "# To create a dictionary that contains(i, i*i) such that is an integral number between 1 and n (both included)\n",
    "d3 = dict((x,x*x) for x in range(1,n3+1))\n",
    "\n",
    "print(d3)"
   ]
  },
  {
   "cell_type": "code",
   "execution_count": 40,
   "metadata": {},
   "outputs": [],
   "source": [
    "#4. Write a program which accepts a sequence of comma-separated numbers from console and generate a list and a tuple which contains every number.\n",
    "#Suppose the following input is supplied to the program: 34,67,55,33,12,98\n",
    "#Then, the output should be: ['34', '67', '55', '33', '12', '98'] ('34', '67', '55', '33', '12', '98')\n",
    "\n",
    "#Hints: In case of input data being supplied to the question, it should be assumed to be a console input. tuple() method can convert list to tuple\n"
   ]
  },
  {
   "cell_type": "code",
   "execution_count": 21,
   "metadata": {},
   "outputs": [
    {
     "name": "stdout",
     "output_type": "stream",
     "text": [
      "Enter the values : 34, 67, 55, 33, 12, 98\n",
      "['34', '67', '55', '33', '12', '98'] ('34', '67', '55', '33', '12', '98')\n"
     ]
    }
   ],
   "source": [
    "v4 = raw_input(\"Enter the values : \")\n",
    "\n",
    "l4 = v4.split(\", \")\n",
    "t4 = tuple(l4)\n",
    "\n",
    "print l4,t4"
   ]
  },
  {
   "cell_type": "code",
   "execution_count": null,
   "metadata": {
    "collapsed": true
   },
   "outputs": [],
   "source": [
    "#5. Define a class which has at least two methods: getString: to get a string from console input and \n",
    "#printString: to print the string in upper case. Also please include simple test function to test the class methods.\n",
    "\n",
    "#Hints: Use __init__ method to construct some parameters\n"
   ]
  },
  {
   "cell_type": "code",
   "execution_count": 49,
   "metadata": {},
   "outputs": [],
   "source": [
    "class iostring:\n",
    "    def _init_(self):\n",
    "        self.s=\"\"\n",
    "    def getString(self):\n",
    "        self.s=raw_input()\n",
    "    def printString(self):\n",
    "        print self.s.upper()"
   ]
  },
  {
   "cell_type": "code",
   "execution_count": 50,
   "metadata": {},
   "outputs": [
    {
     "name": "stdout",
     "output_type": "stream",
     "text": [
      "rishi\n"
     ]
    }
   ],
   "source": [
    "newobj = iostring()\n",
    "newobj.getString()"
   ]
  },
  {
   "cell_type": "code",
   "execution_count": 51,
   "metadata": {},
   "outputs": [
    {
     "name": "stdout",
     "output_type": "stream",
     "text": [
      "RISHI\n"
     ]
    }
   ],
   "source": [
    "newobj.printString()"
   ]
  },
  {
   "cell_type": "code",
   "execution_count": null,
   "metadata": {
    "collapsed": true
   },
   "outputs": [],
   "source": [
    "#6. Write a program that accepts a comma separated sequence of words as input and prints the words in a comma-separated sequence after sorting them alphabetically.\n",
    "# Suppose the following input is supplied to the program: without,hello,bag,world\n",
    "# Then, the output should be: bag,hello,without,world\n",
    "\n",
    "#Hints: In case of input data being supplied to the question, it should be assumed to be a console input.\n"
   ]
  },
  {
   "cell_type": "code",
   "execution_count": 19,
   "metadata": {},
   "outputs": [
    {
     "name": "stdout",
     "output_type": "stream",
     "text": [
      "without,hello,bag,world\n",
      "bag,hello,without,world\n"
     ]
    }
   ],
   "source": [
    "# To create a list containing words entered by user to be sorted\n",
    "words6 = [a6 for a6 in raw_input().split(',')]\n",
    "\n",
    "# To sort the words in the list\n",
    "words6.sort()\n",
    "\n",
    "# To print the sorted words in a single line separated by commas\n",
    "print ','.join(words6)"
   ]
  },
  {
   "cell_type": "code",
   "execution_count": null,
   "metadata": {
    "collapsed": true
   },
   "outputs": [],
   "source": [
    "#7. Write a program that accepts a sequence of whitespace separated words as input and prints the words after removing all duplicate words and sorting them alphanumerically.\n",
    "# Suppose the following input is supplied to the program: hello world and practice makes perfect and hello world again\n",
    "# Then, the output should be: again and hello makes perfect practice world\n",
    "\n",
    "#Hints: In case of input data being supplied to the question, it should be assumed to be a console input.\n",
    "#We use set container to remove duplicated data automatically and then use sorted() to sort the data.\n"
   ]
  },
  {
   "cell_type": "code",
   "execution_count": 31,
   "metadata": {},
   "outputs": [
    {
     "name": "stdout",
     "output_type": "stream",
     "text": [
      "hello world and practice makes perfect and hello world again\n",
      "again and hello makes perfect practice world\n"
     ]
    }
   ],
   "source": [
    "# To create a list of words entered by user\n",
    "words7 = raw_input().split(\" \")\n",
    "\n",
    "s7 = set(words7) # To create a set of the list in order to remove the duplicates\n",
    "\n",
    "#l7 = list(s7) # Again creating the list of sets to sort the words\n",
    "\n",
    "print \" \".join(sorted(s7)) # To print the sorted output in single line separated by space"
   ]
  },
  {
   "cell_type": "code",
   "execution_count": null,
   "metadata": {
    "collapsed": true
   },
   "outputs": [],
   "source": [
    "#8. Write a program that accepts a sentence and calculate the number of upper case letters and lower case letters.\n",
    "#Suppose the following input is supplied to the program: Hello world!\n",
    "#Then, the output should be: UPPER CASE 1 LOWER CASE 9\n",
    "\n",
    "#Hints: In case of input data being supplied to the question, it should be assumed to be a console input.\n"
   ]
  },
  {
   "cell_type": "code",
   "execution_count": 27,
   "metadata": {},
   "outputs": [
    {
     "name": "stdout",
     "output_type": "stream",
     "text": [
      "Enter the sentence : Hello world!\n",
      "UPPER CASE 1 LOWER CASE 9\n"
     ]
    }
   ],
   "source": [
    "# To take input as sentence from user\n",
    "words8 = raw_input(\"Enter the sentence : \")\n",
    "\n",
    "a8=b8=0\n",
    "\n",
    "for i8 in words8 : # To iterate to each word of the sentence\n",
    "    if i8.isupper(): # To check which words are in upper case\n",
    "        a8+=1        # To count number of upper case words\n",
    "    elif i8.islower() : # To check which words are in lower case\n",
    "        b8+=1           # To count number of lower case words\n",
    "    else :\n",
    "        pass\n",
    "    \n",
    "print (\"UPPER CASE \" + str(a8) + \" LOWER CASE \" + str(b8))"
   ]
  },
  {
   "cell_type": "code",
   "execution_count": null,
   "metadata": {
    "collapsed": true
   },
   "outputs": [],
   "source": [
    "#9. A website requires the users to input username and password to register. Write a program to check the validity of password\n",
    "#input by users. Following are the criteria for checking the password:\n",
    "#1. At least 1 letter between [a-z]\n",
    "#2. At least 1 number between [0-9]\n",
    "#1. At least 1 letter between [A-Z]\n",
    "#3. At least 1 character from [$#@]\n",
    "#4. Minimum length of transaction password: 6\n",
    "#5. Maximum length of transaction password: 12\n",
    "#Your program should accept a sequence of comma separated passwords and will check them according to the above criteria. \n",
    "#Passwords that match the criteria are to be printed, each separated by a comma.\n",
    "#Example. If the following passwords are given as input to the program: ABd1234@1,a F1#,2w3E*,2We3345\n",
    "#Then, the output of the program should be: ABd1234@1\n",
    "\n",
    "# You can use module called re\n",
    "#Hints: In case of input data being supplied to the question, it should be assumed to be a console input.\n",
    "\n"
   ]
  },
  {
   "cell_type": "code",
   "execution_count": 28,
   "metadata": {},
   "outputs": [
    {
     "name": "stdout",
     "output_type": "stream",
     "text": [
      "ABd1234@1,a F1#,2w3E*,2We3345\n",
      "ABd1234@1\n"
     ]
    }
   ],
   "source": [
    "# The module re provides support for regular expressions in Python\n",
    "import re\n",
    "\n",
    "password = [] # To create a list for accepted passwords\n",
    "\n",
    "passwords = [x9 for x9 in raw_input().split(',')] # To create a list of passwords entered by user and split them by comma\n",
    "\n",
    "for p in passwords: # To iterate through each password entered by user\n",
    "    if not len(p) in range(6,13): # To check the length of each password in range 6 to 12\n",
    "        continue\n",
    "    elif not re.search(\"[a-z]\",p): # To check whether thecharacter in the apssword is a lowercase alphabet or not and if not pass the control to for loop\n",
    "        continue\n",
    "    elif not re.search(\"[0-9]\",p):# Same as for lower case check character is digit or not\n",
    "        continue\n",
    "    elif not re.search(\"[A-Z]\",p): # Same as for lower case\n",
    "        continue\n",
    "    elif not re.search(\"[$#@]\",p): # Check for special characters '$#@'\n",
    "        continue\n",
    "    else:\n",
    "        pass\n",
    "\n",
    "    password.append(p) # Append all valid passwords\n",
    "\n",
    "print \",\".join(password) # To print all valid passwords in a single line separated by comma"
   ]
  },
  {
   "cell_type": "code",
   "execution_count": null,
   "metadata": {
    "collapsed": true
   },
   "outputs": [],
   "source": [
    "#10. Python has many built-in functions, and if you do not know how to use it, you can read document online or find some books.\n",
    "#But Python has a built-in document function for every built-in functions.\n",
    "#Please write a program to print some Python built-in functions documents, such as abs(), int(), raw_input()\n",
    "#And add document for your own function\n",
    "    \n",
    "#Hints: The built-in document method is __doc__\n"
   ]
  },
  {
   "cell_type": "code",
   "execution_count": 18,
   "metadata": {},
   "outputs": [
    {
     "name": "stdout",
     "output_type": "stream",
     "text": [
      "abs(number) -> number\n",
      "\n",
      "Return the absolute value of the argument.\n",
      "int(x=0) -> int or long\n",
      "int(x, base=10) -> int or long\n",
      "\n",
      "Convert a number or string to an integer, or return 0 if no arguments\n",
      "are given.  If x is floating point, the conversion truncates towards zero.\n",
      "If x is outside the integer range, the function returns a long instead.\n",
      "\n",
      "If x is not a number or if base is given, then x must be a string or\n",
      "Unicode object representing an integer literal in the given base.  The\n",
      "literal can be preceded by '+' or '-' and be surrounded by whitespace.\n",
      "The base defaults to 10.  Valid bases are 0 and 2-36.  Base 0 means to\n",
      "interpret the base from the string as an integer literal.\n",
      ">>> int('0b100', base=0)\n",
      "4\n",
      "Forward raw_input to frontends\n",
      "\n",
      "        Raises\n",
      "        ------\n",
      "        StdinNotImplentedError if active frontend doesn't support stdin.\n",
      "        \n",
      "31 is a Prime Number.\n",
      "    \n",
      "    Return whether the input number is a prime number or not.\n",
      "    \n",
      "    The input number must be integer.\n",
      "    \n"
     ]
    }
   ],
   "source": [
    "print abs.__doc__\n",
    "print int.__doc__\n",
    "print raw_input.__doc__\n",
    "\n",
    "def prime(num):\n",
    "    '''    \n",
    "    Return whether the input number is a prime number or not.\n",
    "    \n",
    "    The input number must be integer.\n",
    "    '''\n",
    "    c=0\n",
    "    for i in range(1,num+1):\n",
    "        if num%i == 0:\n",
    "            c+=1\n",
    "    if c==2:\n",
    "        print str(num) + \" is a Prime Number.\"\n",
    "        \n",
    "    else:\n",
    "        print str(num) + \" is not a Prime Number.\"\n",
    "\n",
    "prime(31)\n",
    "print prime.__doc__"
   ]
  },
  {
   "cell_type": "code",
   "execution_count": null,
   "metadata": {},
   "outputs": [],
   "source": [
    "#11. Write a program that calculates and prints the value according to the given formula:\n",
    "#Q = Square root of [(2 * C * D)/H]\n",
    "#Following are the fixed values of C and H: C is 50. H is 30.\n",
    "#D is the variable whose values should be input to your program in a comma-separated sequence.\n",
    "#Let us assume the following comma separated input sequence is given to the program: 100,150,180\n",
    "#The output of the program should be: 18, 22, 24"
   ]
  },
  {
   "cell_type": "code",
   "execution_count": 28,
   "metadata": {},
   "outputs": [
    {
     "name": "stdout",
     "output_type": "stream",
     "text": [
      "Enter the values for D : 100,150,180\n",
      "18, 22, 24\n"
     ]
    }
   ],
   "source": [
    "import math as m\n",
    "l=[]\n",
    "C=50\n",
    "H=30\n",
    "D = raw_input(\"Enter the values for D : \").split(\",\")\n",
    "for i in D:\n",
    "    Q = int(round(m.sqrt(((2*C*int(i)/H)))))\n",
    "    l.append(str(Q))\n",
    "\n",
    "print ', '.join(l)"
   ]
  },
  {
   "cell_type": "markdown",
   "metadata": {},
   "source": [
    "# math?"
   ]
  },
  {
   "cell_type": "code",
   "execution_count": null,
   "metadata": {},
   "outputs": [],
   "source": [
    "#12. Write a program that accepts sequence of lines as input and prints the lines\n",
    "#after making all characters in the sentence capitalized.\n",
    "#Suppose the input is supplied to the program: Hello world\n",
    "#Practice makes perfect\n",
    "#Then, the output should be: HELLO WORLD\n",
    "#PRACTICE MAKES PERFECT\n",
    "#Hints: In case of input data being supplied to the question, it should be assumed to be a console input."
   ]
  },
  {
   "cell_type": "code",
   "execution_count": 34,
   "metadata": {},
   "outputs": [
    {
     "name": "stdout",
     "output_type": "stream",
     "text": [
      "Enter the input : hello world\n",
      "HELLO WORLD\n"
     ]
    }
   ],
   "source": [
    "s12 = raw_input(\"Enter the input : \")\n",
    "\n",
    "print s12.upper()"
   ]
  },
  {
   "cell_type": "code",
   "execution_count": null,
   "metadata": {},
   "outputs": [],
   "source": [
    "#13. Write a program which accepts a sequence of comma separated 4 digit binary numbers as its input and then check \n",
    "#whether they are divisible by 5 or not. The numbers that are divisible by 5 are to be printed in a comma separated sequence.\n",
    "#Suppose the input is supplied to the program: 0100,0011,1010,1001\n",
    "#Then the output should be: 1010\n",
    "#Notes: Assume the data is input by console.\n",
    "#Hints: In case of input data being supplied to the question, it should be assumed to be a console input"
   ]
  },
  {
   "cell_type": "code",
   "execution_count": 68,
   "metadata": {},
   "outputs": [
    {
     "name": "stdout",
     "output_type": "stream",
     "text": [
      "Enter binary 4 digit numbers : 0100,0011,1010,1001\n",
      "1010\n"
     ]
    }
   ],
   "source": [
    "l13 = raw_input(\"Enter binary 4 digit numbers : \").split(\",\")\n",
    "line13=[]\n",
    "for i in l13:\n",
    "    b='0b' + i\n",
    "    a = int(b, base=2)\n",
    "    if a%5==0:\n",
    "        line13.append(i)\n",
    "print ', '.join(line13)"
   ]
  },
  {
   "cell_type": "code",
   "execution_count": null,
   "metadata": {},
   "outputs": [],
   "source": [
    "#12. Write a program, which will find all such numbers between 1000 and 3000 (both included) such that each digit of \n",
    "#the number is an even number.\n",
    "#The numbers obtained should be printed in a comma-separated sequence on a single line.\n",
    "#Hints: In case of input data being supplied to the question, it should be assumed to be a console input."
   ]
  },
  {
   "cell_type": "code",
   "execution_count": 116,
   "metadata": {},
   "outputs": [
    {
     "name": "stdout",
     "output_type": "stream",
     "text": [
      "2000, 2002, 2004, 2006, 2008, 2020, 2022, 2024, 2026, 2028, 2040, 2042, 2044, 2046, 2048, 2060, 2062, 2064, 2066, 2068, 2080, 2082, 2084, 2086, 2088, 2200, 2202, 2204, 2206, 2208, 2220, 2222, 2224, 2226, 2228, 2240, 2242, 2244, 2246, 2248, 2260, 2262, 2264, 2266, 2268, 2280, 2282, 2284, 2286, 2288, 2400, 2402, 2404, 2406, 2408, 2420, 2422, 2424, 2426, 2428, 2440, 2442, 2444, 2446, 2448, 2460, 2462, 2464, 2466, 2468, 2480, 2482, 2484, 2486, 2488, 2600, 2602, 2604, 2606, 2608, 2620, 2622, 2624, 2626, 2628, 2640, 2642, 2644, 2646, 2648, 2660, 2662, 2664, 2666, 2668, 2680, 2682, 2684, 2686, 2688, 2800, 2802, 2804, 2806, 2808, 2820, 2822, 2824, 2826, 2828, 2840, 2842, 2844, 2846, 2848, 2860, 2862, 2864, 2866, 2868, 2880, 2882, 2884, 2886, 2888\n"
     ]
    }
   ],
   "source": [
    "line = []\n",
    "l = range(1000,3001)\n",
    "for i in l:\n",
    "    c=0\n",
    "    for j in str(i):\n",
    "        if int(j)%2!=0:\n",
    "            c=1\n",
    "    if c==0:\n",
    "        line.append(str(i))\n",
    "print ', '.join(line14)     "
   ]
  },
  {
   "cell_type": "code",
   "execution_count": null,
   "metadata": {},
   "outputs": [],
   "source": [
    "#13. Write a program that accepts a sentence and calculate the number of letters and digits.\n",
    "#Suppose the input is supplied to the program: hello world! 123\n",
    "#Then, the output should be: LETTERS 10\n",
    "#DIGITS 3\n",
    "#Hints: In case of input data being supplied to the question, it should be assumed to be a console input."
   ]
  },
  {
   "cell_type": "code",
   "execution_count": 2,
   "metadata": {},
   "outputs": [
    {
     "name": "stdout",
     "output_type": "stream",
     "text": [
      "hello world! 123\n",
      "10 3\n"
     ]
    }
   ],
   "source": [
    "# The module re provides support for regular expressions in Python\n",
    "import re\n",
    "\n",
    "sent = raw_input() # To create a list of passwords entered by user and split them by comma\n",
    "l=d=0\n",
    "for s in sent: # To iterate through each password entered by user\n",
    "    if re.search(\"[a-zA-Z]\",s): # To check whether thecharacter in the apssword is a lowercase alphabet or not and if not pass the control to for loop\n",
    "        l+=1\n",
    "    elif re.search(\"[0-9]\",s):# Same as for lower case check character is digit or not\n",
    "        d+=1\n",
    "    else:\n",
    "        pass\n",
    "print l,d\n"
   ]
  },
  {
   "cell_type": "code",
   "execution_count": 3,
   "metadata": {},
   "outputs": [
    {
     "name": "stdout",
     "output_type": "stream",
     "text": [
      "Hello world\n",
      "1 9\n"
     ]
    }
   ],
   "source": [
    "a = raw_input()\n",
    "u=l=0\n",
    "for i in a:\n",
    "    if i.isupper():\n",
    "        u+=1\n",
    "    elif i.islower():\n",
    "        l+=1\n",
    "print u, l"
   ]
  },
  {
   "cell_type": "code",
   "execution_count": 1,
   "metadata": {},
   "outputs": [
    {
     "name": "stdout",
     "output_type": "stream",
     "text": [
      "9\n",
      "7380\n"
     ]
    }
   ],
   "source": [
    "b = int(raw_input())\n",
    "c=0\n",
    "for i in range(1,5):\n",
    "    c+=b**i\n",
    "print c"
   ]
  },
  {
   "cell_type": "code",
   "execution_count": 7,
   "metadata": {},
   "outputs": [
    {
     "name": "stdout",
     "output_type": "stream",
     "text": [
      "Enter number : 9\n",
      "11106\n"
     ]
    }
   ],
   "source": [
    "d= int(raw_input(\"Enter number : \"))\n",
    "e=g=0\n",
    "for f in range(0,4):\n",
    "    e+=(10**f)*9\n",
    "    g+=e\n",
    "print g"
   ]
  },
  {
   "cell_type": "code",
   "execution_count": null,
   "metadata": {},
   "outputs": [],
   "source": [
    "#17. Use a list comprehension to square each odd number in a list. The list is input by a sequence of comma-separated numbers.\n",
    "#Suppose the input is supplied to the program: 1,2,3,4,5,6,7,8,9\n",
    "#Then, the output should be: 1, 3, 5, 7, 9\n",
    "#Hints: In case of input data being supplied to the question, it should be assumed to be a console input."
   ]
  },
  {
   "cell_type": "code",
   "execution_count": 8,
   "metadata": {},
   "outputs": [
    {
     "name": "stdout",
     "output_type": "stream",
     "text": [
      "Enter the list : 1,2,3,4,5,6,7,8,9\n",
      "[1, 3, 5, 7, 9]\n"
     ]
    }
   ],
   "source": [
    "l17=[int(x17) for x17 in raw_input(\"Enter the list : \").split(\",\") if int(x17)%2!=0]\n",
    "print l17"
   ]
  },
  {
   "cell_type": "code",
   "execution_count": null,
   "metadata": {},
   "outputs": [],
   "source": [
    "#17. Write a program that computes the net amount of a bank account based a transaction log from console input. The transaction log format is shown as following:\n",
    "#D 100\n",
    "#W 200\n",
    "#--D means deposit while W means withdrawal.\n",
    "#Suppose the input is supplied to the program:\n",
    "#D 300\n",
    "#D 300\n",
    "#W 200\n",
    "#D 100\n",
    "#Then, the output should be: 500\n",
    "#Hints: In case of input data being supplied to the question, it should be assumed to be a console input."
   ]
  },
  {
   "cell_type": "code",
   "execution_count": 19,
   "metadata": {},
   "outputs": [
    {
     "name": "stdout",
     "output_type": "stream",
     "text": [
      "D 300\n",
      "D 300\n",
      "W 200\n",
      "D 100\n",
      "\n",
      "500\n"
     ]
    }
   ],
   "source": [
    "amt = 0\n",
    "while True:\n",
    "    s=raw_input()\n",
    "    if s == '':\n",
    "        break\n",
    "    n = s.split(' ')\n",
    "    a = n[0]\n",
    "    b=int(n[1])\n",
    "    if a == 'D':\n",
    "        amt+=b\n",
    "    elif a == 'W':\n",
    "        amt-=b\n",
    "    \n",
    "print amt "
   ]
  },
  {
   "cell_type": "code",
   "execution_count": null,
   "metadata": {},
   "outputs": [],
   "source": []
  },
  {
   "cell_type": "code",
   "execution_count": null,
   "metadata": {},
   "outputs": [],
   "source": []
  },
  {
   "cell_type": "code",
   "execution_count": null,
   "metadata": {},
   "outputs": [],
   "source": []
  },
  {
   "cell_type": "code",
   "execution_count": null,
   "metadata": {},
   "outputs": [],
   "source": []
  },
  {
   "cell_type": "code",
   "execution_count": null,
   "metadata": {},
   "outputs": [],
   "source": []
  },
  {
   "cell_type": "code",
   "execution_count": null,
   "metadata": {},
   "outputs": [],
   "source": []
  },
  {
   "cell_type": "code",
   "execution_count": null,
   "metadata": {},
   "outputs": [],
   "source": []
  },
  {
   "cell_type": "code",
   "execution_count": null,
   "metadata": {},
   "outputs": [],
   "source": []
  },
  {
   "cell_type": "code",
   "execution_count": null,
   "metadata": {},
   "outputs": [],
   "source": []
  },
  {
   "cell_type": "code",
   "execution_count": null,
   "metadata": {},
   "outputs": [],
   "source": []
  },
  {
   "cell_type": "code",
   "execution_count": null,
   "metadata": {},
   "outputs": [],
   "source": []
  },
  {
   "cell_type": "code",
   "execution_count": null,
   "metadata": {},
   "outputs": [],
   "source": []
  }
 ],
 "metadata": {
  "kernelspec": {
   "display_name": "Python 2",
   "language": "python",
   "name": "python2"
  },
  "language_info": {
   "codemirror_mode": {
    "name": "ipython",
    "version": 2
   },
   "file_extension": ".py",
   "mimetype": "text/x-python",
   "name": "python",
   "nbconvert_exporter": "python",
   "pygments_lexer": "ipython2",
   "version": "2.7.15"
  }
 },
 "nbformat": 4,
 "nbformat_minor": 2
}
